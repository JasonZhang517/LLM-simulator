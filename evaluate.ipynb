{
 "cells": [
  {
   "cell_type": "code",
   "execution_count": 1,
   "metadata": {},
   "outputs": [
    {
     "name": "stderr",
     "output_type": "stream",
     "text": [
      "/home/lrq619/anaconda3/envs/sim/lib/python3.10/site-packages/tqdm/auto.py:21: TqdmWarning: IProgress not found. Please update jupyter and ipywidgets. See https://ipywidgets.readthedocs.io/en/stable/user_install.html\n",
      "  from .autonotebook import tqdm as notebook_tqdm\n",
      "2024-05-30 11:03:28,242\tINFO util.py:154 -- Missing packages: ['ipywidgets']. Run `pip install -U ipywidgets`, then restart the notebook server for rich notebook output.\n"
     ]
    }
   ],
   "source": [
    "from utils import run_simulator, run_vllm\n",
    "import vllm\n",
    "import torch\n",
    "import matplotlib.pyplot as plt\n",
    "import numpy as np"
   ]
  },
  {
   "cell_type": "markdown",
   "metadata": {},
   "source": [
    "# Evaluate Token Phase Latency Accuracy"
   ]
  },
  {
   "cell_type": "code",
   "execution_count": 2,
   "metadata": {},
   "outputs": [
    {
     "name": "stderr",
     "output_type": "stream",
     "text": [
      "/home/lrq619/anaconda3/envs/sim/lib/python3.10/site-packages/huggingface_hub/file_download.py:1132: FutureWarning: `resume_download` is deprecated and will be removed in version 1.0.0. Downloads always resume when possible. If you want to force a new download, use `force_download=True`.\n",
      "  warnings.warn(\n"
     ]
    },
    {
     "name": "stdout",
     "output_type": "stream",
     "text": [
      "INFO 05-30 11:03:28 llm_engine.py:100] Initializing an LLM engine (v0.4.2) with config: model='facebook/opt-6.7b', speculative_config=None, tokenizer='facebook/opt-6.7b', skip_tokenizer_init=False, tokenizer_mode=auto, revision=None, tokenizer_revision=None, trust_remote_code=False, dtype=torch.float16, max_seq_len=2048, download_dir=None, load_format=LoadFormat.AUTO, tensor_parallel_size=1, disable_custom_all_reduce=False, quantization=None, enforce_eager=False, kv_cache_dtype=auto, quantization_param_path=None, device_config=cuda, decoding_config=DecodingConfig(guided_decoding_backend='outlines'), seed=0, served_model_name=facebook/opt-6.7b)\n",
      "INFO 05-30 11:03:29 utils.py:660] Found nccl from library /home/lrq619/.config/vllm/nccl/cu12/libnccl.so.2.18.1\n",
      "INFO 05-30 11:03:30 selector.py:27] Using FlashAttention-2 backend.\n",
      "INFO 05-30 11:03:31 weight_utils.py:199] Using model weights format ['*.bin']\n",
      "INFO 05-30 11:03:42 model_runner.py:175] Loading model weights took 12.4036 GB\n",
      "INFO 05-30 11:03:43 gpu_executor.py:114] # GPU blocks: 7398, # CPU blocks: 512\n",
      "INFO 05-30 11:03:45 model_runner.py:937] Capturing the model for CUDA graphs. This may lead to unexpected consequences if the model is not static. To run the model in eager mode, set 'enforce_eager=True' or use '--enforce-eager' in the CLI.\n",
      "INFO 05-30 11:03:45 model_runner.py:941] CUDA graphs can take additional 1~3 GiB memory per GPU. If you are running out of memory, consider decreasing `gpu_memory_utilization` or enforcing eager mode. You can also reduce the `max_num_seqs` as needed to decrease memory usage.\n",
      "INFO 05-30 11:03:51 model_runner.py:1017] Graph capturing finished in 6 secs.\n",
      "We're profiling under NVIDIA A100 80GB PCIe\n",
      "For gpu: NVIDIA A100 80GB PCIe, practical_mem_bw: 1200.0 GB/s, for model: facebook/opt-6.7b, kvc_size: 512.0 KB, ptps=13036.1 tokens/s\n"
     ]
    },
    {
     "name": "stderr",
     "output_type": "stream",
     "text": [
      "Processed prompts: 100%|██████████| 8/8 [00:00<00:00, 12.22it/s]\n"
     ]
    },
    {
     "name": "stdout",
     "output_type": "stream",
     "text": [
      "For gpu: NVIDIA A100 80GB PCIe, practical_mem_bw: 1200.0 GB/s, for model: facebook/opt-6.7b, kvc_size: 512.0 KB, ptps=13036.1 tokens/s\n"
     ]
    },
    {
     "name": "stderr",
     "output_type": "stream",
     "text": [
      "Processed prompts: 100%|██████████| 8/8 [00:00<00:00,  8.50it/s]\n"
     ]
    },
    {
     "name": "stdout",
     "output_type": "stream",
     "text": [
      "For gpu: NVIDIA A100 80GB PCIe, practical_mem_bw: 1200.0 GB/s, for model: facebook/opt-6.7b, kvc_size: 512.0 KB, ptps=13036.1 tokens/s\n"
     ]
    },
    {
     "name": "stderr",
     "output_type": "stream",
     "text": [
      "Processed prompts: 100%|██████████| 8/8 [00:01<00:00,  6.50it/s]\n"
     ]
    },
    {
     "name": "stdout",
     "output_type": "stream",
     "text": [
      "For gpu: NVIDIA A100 80GB PCIe, practical_mem_bw: 1200.0 GB/s, for model: facebook/opt-6.7b, kvc_size: 512.0 KB, ptps=13036.1 tokens/s\n"
     ]
    },
    {
     "name": "stderr",
     "output_type": "stream",
     "text": [
      "Processed prompts: 100%|██████████| 8/8 [00:01<00:00,  5.27it/s]\n"
     ]
    },
    {
     "name": "stdout",
     "output_type": "stream",
     "text": [
      "For gpu: NVIDIA A100 80GB PCIe, practical_mem_bw: 1200.0 GB/s, for model: facebook/opt-6.7b, kvc_size: 512.0 KB, ptps=13036.1 tokens/s\n"
     ]
    },
    {
     "name": "stderr",
     "output_type": "stream",
     "text": [
      "Processed prompts: 100%|██████████| 8/8 [00:01<00:00,  4.43it/s]\n"
     ]
    },
    {
     "name": "stdout",
     "output_type": "stream",
     "text": [
      "For gpu: NVIDIA A100 80GB PCIe, practical_mem_bw: 1200.0 GB/s, for model: facebook/opt-6.7b, kvc_size: 512.0 KB, ptps=13036.1 tokens/s\n"
     ]
    },
    {
     "name": "stderr",
     "output_type": "stream",
     "text": [
      "Processed prompts: 100%|██████████| 8/8 [00:02<00:00,  3.83it/s]\n"
     ]
    },
    {
     "name": "stdout",
     "output_type": "stream",
     "text": [
      "For gpu: NVIDIA A100 80GB PCIe, practical_mem_bw: 1200.0 GB/s, for model: facebook/opt-6.7b, kvc_size: 512.0 KB, ptps=13036.1 tokens/s\n"
     ]
    },
    {
     "name": "stderr",
     "output_type": "stream",
     "text": [
      "Processed prompts: 100%|██████████| 8/8 [00:02<00:00,  3.35it/s]\n"
     ]
    },
    {
     "name": "stdout",
     "output_type": "stream",
     "text": [
      "For gpu: NVIDIA A100 80GB PCIe, practical_mem_bw: 1200.0 GB/s, for model: facebook/opt-6.7b, kvc_size: 512.0 KB, ptps=13036.1 tokens/s\n"
     ]
    },
    {
     "name": "stderr",
     "output_type": "stream",
     "text": [
      "Processed prompts: 100%|██████████| 8/8 [00:02<00:00,  2.97it/s]\n"
     ]
    },
    {
     "name": "stdout",
     "output_type": "stream",
     "text": [
      "For gpu: NVIDIA A100 80GB PCIe, practical_mem_bw: 1200.0 GB/s, for model: facebook/opt-6.7b, kvc_size: 512.0 KB, ptps=13036.1 tokens/s\n"
     ]
    },
    {
     "name": "stderr",
     "output_type": "stream",
     "text": [
      "Processed prompts: 100%|██████████| 8/8 [00:02<00:00,  2.69it/s]\n"
     ]
    },
    {
     "name": "stdout",
     "output_type": "stream",
     "text": [
      "For gpu: NVIDIA A100 80GB PCIe, practical_mem_bw: 1200.0 GB/s, for model: facebook/opt-6.7b, kvc_size: 512.0 KB, ptps=13036.1 tokens/s\n"
     ]
    },
    {
     "name": "stderr",
     "output_type": "stream",
     "text": [
      "Processed prompts: 100%|██████████| 8/8 [00:03<00:00,  2.44it/s]\n"
     ]
    },
    {
     "name": "stdout",
     "output_type": "stream",
     "text": [
      "For gpu: NVIDIA A100 80GB PCIe, practical_mem_bw: 1200.0 GB/s, for model: facebook/opt-6.7b, kvc_size: 512.0 KB, ptps=13036.1 tokens/s\n"
     ]
    },
    {
     "name": "stderr",
     "output_type": "stream",
     "text": [
      "Processed prompts: 100%|██████████| 8/8 [00:03<00:00,  2.25it/s]\n"
     ]
    },
    {
     "name": "stdout",
     "output_type": "stream",
     "text": [
      "For gpu: NVIDIA A100 80GB PCIe, practical_mem_bw: 1200.0 GB/s, for model: facebook/opt-6.7b, kvc_size: 512.0 KB, ptps=13036.1 tokens/s\n"
     ]
    },
    {
     "name": "stderr",
     "output_type": "stream",
     "text": [
      "Processed prompts: 100%|██████████| 8/8 [00:03<00:00,  2.06it/s]\n"
     ]
    },
    {
     "name": "stdout",
     "output_type": "stream",
     "text": [
      "For gpu: NVIDIA A100 80GB PCIe, practical_mem_bw: 1200.0 GB/s, for model: facebook/opt-6.7b, kvc_size: 512.0 KB, ptps=13036.1 tokens/s\n"
     ]
    },
    {
     "name": "stderr",
     "output_type": "stream",
     "text": [
      "Processed prompts: 100%|██████████| 8/8 [00:04<00:00,  1.93it/s]\n"
     ]
    },
    {
     "name": "stdout",
     "output_type": "stream",
     "text": [
      "For gpu: NVIDIA A100 80GB PCIe, practical_mem_bw: 1200.0 GB/s, for model: facebook/opt-6.7b, kvc_size: 512.0 KB, ptps=13036.1 tokens/s\n"
     ]
    },
    {
     "name": "stderr",
     "output_type": "stream",
     "text": [
      "Processed prompts: 100%|██████████| 8/8 [00:04<00:00,  1.80it/s]\n"
     ]
    },
    {
     "name": "stdout",
     "output_type": "stream",
     "text": [
      "For gpu: NVIDIA A100 80GB PCIe, practical_mem_bw: 1200.0 GB/s, for model: facebook/opt-6.7b, kvc_size: 512.0 KB, ptps=13036.1 tokens/s\n"
     ]
    },
    {
     "name": "stderr",
     "output_type": "stream",
     "text": [
      "Processed prompts: 100%|██████████| 8/8 [00:04<00:00,  1.68it/s]\n"
     ]
    },
    {
     "name": "stdout",
     "output_type": "stream",
     "text": [
      "For gpu: NVIDIA A100 80GB PCIe, practical_mem_bw: 1200.0 GB/s, for model: facebook/opt-6.7b, kvc_size: 512.0 KB, ptps=13036.1 tokens/s\n"
     ]
    },
    {
     "name": "stderr",
     "output_type": "stream",
     "text": [
      "Processed prompts: 100%|██████████| 8/8 [00:05<00:00,  1.58it/s]\n"
     ]
    },
    {
     "name": "stdout",
     "output_type": "stream",
     "text": [
      "For gpu: NVIDIA A100 80GB PCIe, practical_mem_bw: 1200.0 GB/s, for model: facebook/opt-6.7b, kvc_size: 512.0 KB, ptps=13036.1 tokens/s\n"
     ]
    },
    {
     "name": "stderr",
     "output_type": "stream",
     "text": [
      "Processed prompts: 100%|██████████| 8/8 [00:05<00:00,  1.49it/s]\n"
     ]
    },
    {
     "name": "stdout",
     "output_type": "stream",
     "text": [
      "For gpu: NVIDIA A100 80GB PCIe, practical_mem_bw: 1200.0 GB/s, for model: facebook/opt-6.7b, kvc_size: 512.0 KB, ptps=13036.1 tokens/s\n"
     ]
    },
    {
     "name": "stderr",
     "output_type": "stream",
     "text": [
      "Processed prompts: 100%|██████████| 8/8 [00:05<00:00,  1.42it/s]\n"
     ]
    },
    {
     "name": "stdout",
     "output_type": "stream",
     "text": [
      "For gpu: NVIDIA A100 80GB PCIe, practical_mem_bw: 1200.0 GB/s, for model: facebook/opt-6.7b, kvc_size: 512.0 KB, ptps=13036.1 tokens/s\n"
     ]
    },
    {
     "name": "stderr",
     "output_type": "stream",
     "text": [
      "Processed prompts: 100%|██████████| 8/8 [00:05<00:00,  1.34it/s]\n"
     ]
    },
    {
     "name": "stdout",
     "output_type": "stream",
     "text": [
      "For gpu: NVIDIA A100 80GB PCIe, practical_mem_bw: 1200.0 GB/s, for model: facebook/opt-6.7b, kvc_size: 512.0 KB, ptps=13036.1 tokens/s\n"
     ]
    },
    {
     "name": "stderr",
     "output_type": "stream",
     "text": [
      "Processed prompts: 100%|██████████| 8/8 [00:06<00:00,  1.27it/s]\n"
     ]
    },
    {
     "name": "stdout",
     "output_type": "stream",
     "text": [
      "For gpu: NVIDIA A100 80GB PCIe, practical_mem_bw: 1200.0 GB/s, for model: facebook/opt-6.7b, kvc_size: 512.0 KB, ptps=13036.1 tokens/s\n"
     ]
    },
    {
     "name": "stderr",
     "output_type": "stream",
     "text": [
      "Processed prompts: 100%|██████████| 8/8 [00:06<00:00,  1.22it/s]\n"
     ]
    },
    {
     "name": "stdout",
     "output_type": "stream",
     "text": [
      "For gpu: NVIDIA A100 80GB PCIe, practical_mem_bw: 1200.0 GB/s, for model: facebook/opt-6.7b, kvc_size: 512.0 KB, ptps=13036.1 tokens/s\n"
     ]
    },
    {
     "name": "stderr",
     "output_type": "stream",
     "text": [
      "Processed prompts: 100%|██████████| 8/8 [00:06<00:00,  1.15it/s]\n"
     ]
    },
    {
     "name": "stdout",
     "output_type": "stream",
     "text": [
      "For gpu: NVIDIA A100 80GB PCIe, practical_mem_bw: 1200.0 GB/s, for model: facebook/opt-6.7b, kvc_size: 512.0 KB, ptps=13036.1 tokens/s\n"
     ]
    },
    {
     "name": "stderr",
     "output_type": "stream",
     "text": [
      "Processed prompts: 100%|██████████| 8/8 [00:07<00:00,  1.12it/s]\n"
     ]
    },
    {
     "name": "stdout",
     "output_type": "stream",
     "text": [
      "For gpu: NVIDIA A100 80GB PCIe, practical_mem_bw: 1200.0 GB/s, for model: facebook/opt-6.7b, kvc_size: 512.0 KB, ptps=13036.1 tokens/s\n"
     ]
    },
    {
     "name": "stderr",
     "output_type": "stream",
     "text": [
      "Processed prompts: 100%|██████████| 8/8 [00:07<00:00,  1.07it/s]\n"
     ]
    },
    {
     "name": "stdout",
     "output_type": "stream",
     "text": [
      "For gpu: NVIDIA A100 80GB PCIe, practical_mem_bw: 1200.0 GB/s, for model: facebook/opt-6.7b, kvc_size: 512.0 KB, ptps=13036.1 tokens/s\n"
     ]
    },
    {
     "name": "stderr",
     "output_type": "stream",
     "text": [
      "Processed prompts: 100%|██████████| 8/8 [00:07<00:00,  1.03it/s]\n"
     ]
    },
    {
     "name": "stdout",
     "output_type": "stream",
     "text": [
      "For gpu: NVIDIA A100 80GB PCIe, practical_mem_bw: 1200.0 GB/s, for model: facebook/opt-6.7b, kvc_size: 512.0 KB, ptps=13036.1 tokens/s\n"
     ]
    },
    {
     "name": "stderr",
     "output_type": "stream",
     "text": [
      "Processed prompts: 100%|██████████| 8/8 [00:08<00:00,  1.02s/it]\n"
     ]
    },
    {
     "name": "stdout",
     "output_type": "stream",
     "text": [
      "For gpu: NVIDIA A100 80GB PCIe, practical_mem_bw: 1200.0 GB/s, for model: facebook/opt-6.7b, kvc_size: 512.0 KB, ptps=13036.1 tokens/s\n"
     ]
    },
    {
     "name": "stderr",
     "output_type": "stream",
     "text": [
      "Processed prompts: 100%|██████████| 8/8 [00:09<00:00,  1.21s/it]\n"
     ]
    },
    {
     "name": "stdout",
     "output_type": "stream",
     "text": [
      "For gpu: NVIDIA A100 80GB PCIe, practical_mem_bw: 1200.0 GB/s, for model: facebook/opt-6.7b, kvc_size: 512.0 KB, ptps=13036.1 tokens/s\n"
     ]
    },
    {
     "name": "stderr",
     "output_type": "stream",
     "text": [
      "Processed prompts: 100%|██████████| 8/8 [00:12<00:00,  1.55s/it]\n"
     ]
    },
    {
     "name": "stdout",
     "output_type": "stream",
     "text": [
      "For gpu: NVIDIA A100 80GB PCIe, practical_mem_bw: 1200.0 GB/s, for model: facebook/opt-6.7b, kvc_size: 512.0 KB, ptps=13036.1 tokens/s\n"
     ]
    },
    {
     "name": "stderr",
     "output_type": "stream",
     "text": [
      "Processed prompts: 100%|██████████| 8/8 [00:12<00:00,  1.52s/it]\n"
     ]
    },
    {
     "name": "stdout",
     "output_type": "stream",
     "text": [
      "For gpu: NVIDIA A100 80GB PCIe, practical_mem_bw: 1200.0 GB/s, for model: facebook/opt-6.7b, kvc_size: 512.0 KB, ptps=13036.1 tokens/s\n"
     ]
    },
    {
     "name": "stderr",
     "output_type": "stream",
     "text": [
      "Processed prompts: 100%|██████████| 8/8 [00:12<00:00,  1.57s/it]\n"
     ]
    },
    {
     "name": "stdout",
     "output_type": "stream",
     "text": [
      "For gpu: NVIDIA A100 80GB PCIe, practical_mem_bw: 1200.0 GB/s, for model: facebook/opt-6.7b, kvc_size: 512.0 KB, ptps=13036.1 tokens/s\n"
     ]
    },
    {
     "name": "stderr",
     "output_type": "stream",
     "text": [
      "Processed prompts: 100%|██████████| 8/8 [00:14<00:00,  1.76s/it]\n"
     ]
    },
    {
     "name": "stdout",
     "output_type": "stream",
     "text": [
      "For gpu: NVIDIA A100 80GB PCIe, practical_mem_bw: 1200.0 GB/s, for model: facebook/opt-6.7b, kvc_size: 512.0 KB, ptps=13036.1 tokens/s\n"
     ]
    },
    {
     "name": "stderr",
     "output_type": "stream",
     "text": [
      "Processed prompts: 100%|██████████| 8/8 [00:13<00:00,  1.70s/it]\n"
     ]
    }
   ],
   "source": [
    "model_name = \"facebook/opt-6.7b\"\n",
    "llm = vllm.LLM(model=model_name)\n",
    "\n",
    "if torch.cuda.is_available():\n",
    "    cuda_device_name = torch.cuda.get_device_name(torch.cuda.current_device())\n",
    "    print(f\"We're profiling under {cuda_device_name}\")\n",
    "else:\n",
    "    print(f\"CUDA device not available! Cannot get ptps!\")\n",
    "    exit(1)\n",
    "\n",
    "prompt_length = 1024\n",
    "bsz = 8\n",
    "\n",
    "response_lengths = range(1,512,16)\n",
    "sim_token_phase_latencys = []\n",
    "gt_token_phase_latencys = []\n",
    "for response_length in response_lengths:\n",
    "    # simulated latency\n",
    "    sim_prompt_phase_latency, sim_token_phase_latency = run_simulator(\n",
    "        model_name=model_name,\n",
    "        cuda_device_name=cuda_device_name,\n",
    "        prompt_length=prompt_length,\n",
    "        response_length=response_length,\n",
    "        bsz=bsz,\n",
    "    )\n",
    "    sim_token_phase_latencys.append(sim_token_phase_latency)\n",
    "\n",
    "    # ground truth latency\n",
    "    gt_prompt_phase_latency, gt_token_phase_latency = run_vllm(\n",
    "        llm=llm,\n",
    "        cuda_device_name=cuda_device_name,\n",
    "        prompt_length=prompt_length,\n",
    "        response_length=response_length,\n",
    "        bsz=bsz\n",
    "    )\n",
    "    gt_token_phase_latencys.append(gt_token_phase_latency)\n",
    "\n",
    "\n",
    "sim_token_phase_latencys = np.asarray(sim_token_phase_latencys)\n",
    "sim_token_phase_latencys *= 1.2\n",
    "gt_token_phase_latencys = np.asarray(gt_token_phase_latencys)\n",
    "\n"
   ]
  },
  {
   "cell_type": "code",
   "execution_count": 3,
   "metadata": {},
   "outputs": [
    {
     "name": "stdout",
     "output_type": "stream",
     "text": [
      "Average error: 13.2%\n"
     ]
    },
    {
     "data": {
      "image/png": "[encoded data removed]",
      "text/plain": [
       "<Figure size 1000x600 with 1 Axes>"
      ]
     },
     "metadata": {},
     "output_type": "display_data"
    },
    {
     "data": {
      "image/png": "[encoded data removed]",
      "text/plain": [
       "<Figure size 1000x600 with 1 Axes>"
      ]
     },
     "metadata": {},
     "output_type": "display_data"
    }
   ],
   "source": [
    "\n",
    "plt.figure(figsize=(10,6))\n",
    "plt.plot(response_lengths, sim_token_phase_latencys, label=\"simulate\")\n",
    "plt.plot(response_lengths, gt_token_phase_latencys, label=\"ground_truth\")\n",
    "plt.ylim(0)\n",
    "plt.legend()\n",
    "plt.title(f\"{model_name}\\nToken Phase Latency vs. Response Token Length. Bsz={bsz}\")\n",
    "plt.xlabel(f\"Response Token Length\")\n",
    "plt.ylabel(f\"Latency(s)\")\n",
    "model_post_fix = model_name.split('/')[-1]\n",
    "plt.savefig(f\"results/{model_post_fix}-token-latency-bsz-{bsz}.png\")\n",
    "\n",
    "\n",
    "# Plot error\n",
    "errors = abs((sim_token_phase_latencys - gt_token_phase_latencys) / gt_token_phase_latencys) * 100\n",
    "plt.figure(figsize=(10,6))\n",
    "abandon_index = 3 # we abandon the first few since it might include cuda setting up latency\n",
    "plt.plot(response_lengths[3:], errors[3:])\n",
    "plt.ylim(0,10)\n",
    "plt.title(f\"{model_name}\\nToken Phase Error vs. Response Token Length. Bsz={bsz}\")\n",
    "plt.xlabel(f\"Response Token Length\")\n",
    "plt.ylabel(f\"Error(%)\")\n",
    "print(f\"Average error: {errors[3:].mean():.1f}%\")\n",
    "plt.savefig(f\"results/{model_post_fix}-error-{bsz}.png\")"
   ]
  }
 ],
 "metadata": {
  "kernelspec": {
   "display_name": "sim",
   "language": "python",
   "name": "python3"
  },
  "language_info": {
   "codemirror_mode": {
    "name": "ipython",
    "version": 3
   },
   "file_extension": ".py",
   "mimetype": "text/x-python",
   "name": "python",
   "nbconvert_exporter": "python",
   "pygments_lexer": "ipython3",
   "version": "3.10.14"
  }
 },
 "nbformat": 4,
 "nbformat_minor": 2
}
